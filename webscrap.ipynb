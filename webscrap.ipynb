# Statistics packages
import statsmodels.api as sm
from statsmodels.formula.api import ols
import statsmodels.formula.api as smf

# Setting up the environment.
import numpy as np
import pandas as pd
import matplotlib.pyplot as plt
import seaborn as sns
from scipy import stats

# Various libraries needed for the matplotlib charts
import matplotlib.patches as mpatches
from matplotlib.ticker import MultipleLocator, FormatStrFormatter
import matplotlib.patheffects as PathEffects

# Statistics packages
import statsmodels.api as sm
from statsmodels.formula.api import ols
import statsmodels.formula.api as smf



# These are the tables we care about from the Lahman’s Baseball Database.
us_counties_df = pd.read_csv('us_counties_covid19_daily.csv')
us_states_df = pd.read_csv('us_states_covid19_daily.csv')
hospitalization_df = pd.read_csv('hospitalization_all_locs.csv')


#display top 3 of the Tables 
us_counties_df.head(3)
us_states_df.head(3)
hospitalization_df.head(3)
